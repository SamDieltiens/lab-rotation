{
 "cells": [
  {
   "cell_type": "code",
   "execution_count": 1,
   "id": "7167800d",
   "metadata": {},
   "outputs": [],
   "source": [
    "from skimage.io import imread_collection\n",
    "import numpy as np\n",
    "\n",
    "folder = np.array(imread_collection(r\"C:\\Users\\Sam Dieltiens\\Desktop\\LR1\\tiling_images\\iss\\*.tif\"), dtype=object)"
   ]
  },
  {
   "cell_type": "code",
   "execution_count": 8,
   "id": "dcaa2aa8",
   "metadata": {},
   "outputs": [],
   "source": [
    "#input target tile size\n",
    "target_tile_height = 100\n",
    "target_tile_width = 100"
   ]
  },
  {
   "cell_type": "code",
   "execution_count": 14,
   "id": "6e576f69",
   "metadata": {},
   "outputs": [
    {
     "name": "stdout",
     "output_type": "stream",
     "text": [
      "988 1337\n"
     ]
    }
   ],
   "source": [
    "#calculate largest height and width\n",
    "heights = []\n",
    "widths = []\n",
    "for i in range(len(folder)):\n",
    "    heights.append(folder[i].shape[0])\n",
    "    widths.append(folder[i].shape[1])\n",
    "\n",
    "max_rows = sorted(heights, reverse = True)[0]\n",
    "max_columns = sorted(widths, reverse = True)[0] \n",
    "print(max_rows,max_columns)"
   ]
  },
  {
   "cell_type": "code",
   "execution_count": 13,
   "id": "89629d5c",
   "metadata": {},
   "outputs": [
    {
     "name": "stdout",
     "output_type": "stream",
     "text": [
      "10.0 14.0\n"
     ]
    }
   ],
   "source": [
    "#calculate the target number of tiles, both in height & width\n",
    "xdiv = np.ceil(max_rows / target_tile_height)\n",
    "ydiv = np.ceil(max_columns / target_tile_width)\n",
    "print(xdiv,ydiv)"
   ]
  },
  {
   "cell_type": "code",
   "execution_count": 15,
   "id": "59d33384",
   "metadata": {},
   "outputs": [
    {
     "name": "stdout",
     "output_type": "stream",
     "text": [
      "1000.0 1400.0\n"
     ]
    }
   ],
   "source": [
    "#calculate target image size, based on target tile size and imported image sizes\n",
    "target_full_rows = xdiv * target_tile_height\n",
    "target_full_columns = ydiv * target_tile_width\n",
    "print(target_full_rows, target_full_columns)"
   ]
  },
  {
   "cell_type": "code",
   "execution_count": null,
   "id": "090ef731",
   "metadata": {},
   "outputs": [],
   "source": []
  },
  {
   "cell_type": "code",
   "execution_count": null,
   "id": "8f8478c4",
   "metadata": {},
   "outputs": [],
   "source": []
  },
  {
   "cell_type": "code",
   "execution_count": null,
   "id": "f79f3ec6",
   "metadata": {},
   "outputs": [],
   "source": []
  },
  {
   "cell_type": "code",
   "execution_count": null,
   "id": "e5a38bf8",
   "metadata": {},
   "outputs": [],
   "source": []
  },
  {
   "cell_type": "code",
   "execution_count": null,
   "id": "72b7994c",
   "metadata": {},
   "outputs": [],
   "source": []
  },
  {
   "cell_type": "code",
   "execution_count": null,
   "id": "77964656",
   "metadata": {},
   "outputs": [],
   "source": []
  },
  {
   "cell_type": "code",
   "execution_count": null,
   "id": "794959e0",
   "metadata": {},
   "outputs": [],
   "source": []
  },
  {
   "cell_type": "code",
   "execution_count": null,
   "id": "b423d3c4",
   "metadata": {},
   "outputs": [],
   "source": []
  },
  {
   "cell_type": "code",
   "execution_count": null,
   "id": "ee6f9e67",
   "metadata": {},
   "outputs": [],
   "source": []
  },
  {
   "cell_type": "code",
   "execution_count": null,
   "id": "75c3a9f4",
   "metadata": {},
   "outputs": [],
   "source": []
  },
  {
   "cell_type": "code",
   "execution_count": null,
   "id": "6b87c775",
   "metadata": {},
   "outputs": [],
   "source": []
  },
  {
   "cell_type": "code",
   "execution_count": null,
   "id": "0616c187",
   "metadata": {},
   "outputs": [],
   "source": []
  },
  {
   "cell_type": "code",
   "execution_count": null,
   "id": "efd9b5c2",
   "metadata": {},
   "outputs": [],
   "source": []
  },
  {
   "cell_type": "code",
   "execution_count": null,
   "id": "150bdb0b",
   "metadata": {},
   "outputs": [],
   "source": []
  },
  {
   "cell_type": "code",
   "execution_count": null,
   "id": "73bb6cd5",
   "metadata": {},
   "outputs": [],
   "source": []
  },
  {
   "cell_type": "code",
   "execution_count": null,
   "id": "76b155b5",
   "metadata": {},
   "outputs": [],
   "source": []
  },
  {
   "cell_type": "markdown",
   "id": "bb107aa3",
   "metadata": {},
   "source": [
    "count_x = []\n",
    "count_y = []\n",
    "\n",
    "for i in range(len(x_lens)):\n",
    "    count_x.append(abs(x_lens[i]-100))\n",
    "    \n",
    "for i in range(len(y_lens)):\n",
    "    count_y.append(abs(y_lens[i]-100))\n",
    "print(count_x)\n",
    "print(count_y)   "
   ]
  },
  {
   "cell_type": "code",
   "execution_count": null,
   "id": "26c0687e",
   "metadata": {},
   "outputs": [],
   "source": []
  },
  {
   "cell_type": "code",
   "execution_count": null,
   "id": "72005220",
   "metadata": {},
   "outputs": [],
   "source": []
  },
  {
   "cell_type": "code",
   "execution_count": null,
   "id": "124dae3a",
   "metadata": {},
   "outputs": [],
   "source": []
  },
  {
   "cell_type": "code",
   "execution_count": null,
   "id": "082edfe1",
   "metadata": {},
   "outputs": [],
   "source": []
  },
  {
   "cell_type": "code",
   "execution_count": null,
   "id": "8db62348",
   "metadata": {},
   "outputs": [],
   "source": []
  },
  {
   "cell_type": "code",
   "execution_count": null,
   "id": "913e8af3",
   "metadata": {},
   "outputs": [],
   "source": []
  },
  {
   "cell_type": "code",
   "execution_count": null,
   "id": "c9e1886f",
   "metadata": {},
   "outputs": [],
   "source": []
  },
  {
   "cell_type": "code",
   "execution_count": null,
   "id": "8d28bb52",
   "metadata": {},
   "outputs": [],
   "source": []
  },
  {
   "cell_type": "code",
   "execution_count": null,
   "id": "3e458cfb",
   "metadata": {},
   "outputs": [],
   "source": []
  },
  {
   "cell_type": "code",
   "execution_count": null,
   "id": "c47c5377",
   "metadata": {},
   "outputs": [],
   "source": []
  },
  {
   "cell_type": "code",
   "execution_count": null,
   "id": "9dda7ed9",
   "metadata": {},
   "outputs": [],
   "source": []
  },
  {
   "cell_type": "code",
   "execution_count": null,
   "id": "deea7c3c",
   "metadata": {},
   "outputs": [],
   "source": []
  },
  {
   "cell_type": "code",
   "execution_count": null,
   "id": "012cb877",
   "metadata": {},
   "outputs": [],
   "source": []
  },
  {
   "cell_type": "code",
   "execution_count": null,
   "id": "56b27420",
   "metadata": {},
   "outputs": [],
   "source": []
  },
  {
   "cell_type": "code",
   "execution_count": null,
   "id": "043e8eea",
   "metadata": {},
   "outputs": [],
   "source": []
  },
  {
   "cell_type": "code",
   "execution_count": null,
   "id": "9ce1c0b8",
   "metadata": {},
   "outputs": [],
   "source": []
  },
  {
   "cell_type": "code",
   "execution_count": null,
   "id": "1ff63d92",
   "metadata": {},
   "outputs": [],
   "source": []
  },
  {
   "cell_type": "code",
   "execution_count": null,
   "id": "81cd2d73",
   "metadata": {},
   "outputs": [],
   "source": []
  },
  {
   "cell_type": "code",
   "execution_count": null,
   "id": "bcf53b42",
   "metadata": {},
   "outputs": [],
   "source": []
  },
  {
   "cell_type": "code",
   "execution_count": null,
   "id": "d9f223d2",
   "metadata": {},
   "outputs": [],
   "source": []
  },
  {
   "cell_type": "markdown",
   "id": "363b1da2",
   "metadata": {},
   "source": [
    "def roundUpTo100(x):\n",
    "    result = x if x % 100 == 0 else x + 100 - x % 100\n",
    "    return result"
   ]
  },
  {
   "cell_type": "markdown",
   "id": "d5b34286",
   "metadata": {},
   "source": [
    "roundUpTo100(101)"
   ]
  },
  {
   "cell_type": "markdown",
   "id": "541b50ab",
   "metadata": {},
   "source": [
    "np.gcd(918,100)"
   ]
  },
  {
   "cell_type": "code",
   "execution_count": null,
   "id": "efe87477",
   "metadata": {},
   "outputs": [],
   "source": []
  },
  {
   "cell_type": "code",
   "execution_count": null,
   "id": "7ea4dab7",
   "metadata": {},
   "outputs": [],
   "source": []
  },
  {
   "cell_type": "code",
   "execution_count": null,
   "id": "3169e07a",
   "metadata": {},
   "outputs": [],
   "source": []
  },
  {
   "cell_type": "code",
   "execution_count": null,
   "id": "c71fd6dc",
   "metadata": {},
   "outputs": [],
   "source": []
  }
 ],
 "metadata": {
  "kernelspec": {
   "display_name": "Python 3 (ipykernel)",
   "language": "python",
   "name": "python3"
  },
  "language_info": {
   "codemirror_mode": {
    "name": "ipython",
    "version": 3
   },
   "file_extension": ".py",
   "mimetype": "text/x-python",
   "name": "python",
   "nbconvert_exporter": "python",
   "pygments_lexer": "ipython3",
   "version": "3.9.7"
  }
 },
 "nbformat": 4,
 "nbformat_minor": 5
}
