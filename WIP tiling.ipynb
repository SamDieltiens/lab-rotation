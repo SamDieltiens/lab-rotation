{
 "cells": [
  {
   "cell_type": "code",
   "execution_count": 1,
   "id": "7167800d",
   "metadata": {},
   "outputs": [],
   "source": [
    "from skimage.io import imread_collection\n",
    "import numpy as np\n",
    "\n",
    "folder = np.array(imread_collection(r\"C:\\Users\\Sam Dieltiens\\Desktop\\LR1\\tiling_images\\iss\\*.tif\"), dtype=object)"
   ]
  },
  {
   "cell_type": "code",
   "execution_count": 8,
   "id": "7d64e880",
   "metadata": {},
   "outputs": [],
   "source": [
    "#input target tile size\n",
    "target_tile_height = 100\n",
    "target_tile_width = 100"
   ]
  },
  {
   "cell_type": "code",
   "execution_count": 14,
   "id": "a42a68b7",
   "metadata": {},
   "outputs": [
    {
     "name": "stdout",
     "output_type": "stream",
     "text": [
      "988 1337\n"
     ]
    }
   ],
   "source": [
    "#calculate largest height and width\n",
    "heights = []\n",
    "widths = []\n",
    "for i in range(len(folder)):\n",
    "    heights.append(folder[i].shape[0])\n",
    "    widths.append(folder[i].shape[1])\n",
    "\n",
    "max_rows = sorted(heights, reverse = True)[0]\n",
    "max_columns = sorted(widths, reverse = True)[0] \n",
    "print(max_rows,max_columns)"
   ]
  },
  {
   "cell_type": "code",
   "execution_count": 13,
   "id": "c4dfd722",
   "metadata": {},
   "outputs": [
    {
     "name": "stdout",
     "output_type": "stream",
     "text": [
      "10.0 14.0\n"
     ]
    }
   ],
   "source": [
    "#calculate the target number of tiles, both in height & width\n",
    "xdiv = np.ceil(max_rows / target_tile_height)\n",
    "ydiv = np.ceil(max_columns / target_tile_width)\n",
    "print(xdiv,ydiv)"
   ]
  },
  {
   "cell_type": "code",
   "execution_count": 15,
   "id": "32f30d52",
   "metadata": {},
   "outputs": [
    {
     "name": "stdout",
     "output_type": "stream",
     "text": [
      "1000.0 1400.0\n"
     ]
    }
   ],
   "source": [
    "#calculate target image size, based on target tile size and imported image sizes\n",
    "target_full_rows = xdiv * target_tile_height\n",
    "target_full_columns = ydiv * target_tile_width\n",
    "print(target_full_rows, target_full_columns)"
   ]
  },
  {
   "cell_type": "code",
   "execution_count": null,
   "id": "944a9636",
   "metadata": {},
   "outputs": [],
   "source": [
    "#add zeropixels to each image until target size"
   ]
  },
  {
   "cell_type": "code",
   "execution_count": null,
   "id": "bfa42ba9",
   "metadata": {},
   "outputs": [],
   "source": []
  },
  {
   "cell_type": "code",
   "execution_count": null,
   "id": "cdb423cc",
   "metadata": {},
   "outputs": [],
   "source": []
  },
  {
   "cell_type": "code",
   "execution_count": null,
   "id": "18bab185",
   "metadata": {},
   "outputs": [],
   "source": []
  },
  {
   "cell_type": "code",
   "execution_count": null,
   "id": "f71db7e3",
   "metadata": {},
   "outputs": [],
   "source": []
  },
  {
   "cell_type": "code",
   "execution_count": null,
   "id": "dbfe3923",
   "metadata": {},
   "outputs": [],
   "source": []
  },
  {
   "cell_type": "code",
   "execution_count": null,
   "id": "4b234a87",
   "metadata": {},
   "outputs": [],
   "source": []
  },
  {
   "cell_type": "code",
   "execution_count": null,
   "id": "7be8d3b4",
   "metadata": {},
   "outputs": [],
   "source": []
  },
  {
   "cell_type": "code",
   "execution_count": null,
   "id": "9ab013b4",
   "metadata": {},
   "outputs": [],
   "source": []
  },
  {
   "cell_type": "code",
   "execution_count": null,
   "id": "09590040",
   "metadata": {},
   "outputs": [],
   "source": []
  },
  {
   "cell_type": "code",
   "execution_count": null,
   "id": "a6d618a4",
   "metadata": {},
   "outputs": [],
   "source": []
  },
  {
   "cell_type": "code",
   "execution_count": null,
   "id": "58ab4376",
   "metadata": {},
   "outputs": [],
   "source": []
  },
  {
   "cell_type": "code",
   "execution_count": null,
   "id": "0576737e",
   "metadata": {},
   "outputs": [],
   "source": []
  },
  {
   "cell_type": "code",
   "execution_count": null,
   "id": "b123a475",
   "metadata": {},
   "outputs": [],
   "source": []
  },
  {
   "cell_type": "code",
   "execution_count": null,
   "id": "61e1e682",
   "metadata": {},
   "outputs": [],
   "source": []
  },
  {
   "cell_type": "code",
   "execution_count": 16,
   "id": "719e85d4",
   "metadata": {},
   "outputs": [
    {
     "ename": "SyntaxError",
     "evalue": "invalid syntax (Temp/ipykernel_20768/4107679537.py, line 1)",
     "output_type": "error",
     "traceback": [
      "\u001b[1;36m  File \u001b[1;32m\"C:\\Users\\SAMDIE~1\\AppData\\Local\\Temp/ipykernel_20768/4107679537.py\"\u001b[1;36m, line \u001b[1;32m1\u001b[0m\n\u001b[1;33m    JUNK CODE\u001b[0m\n\u001b[1;37m         ^\u001b[0m\n\u001b[1;31mSyntaxError\u001b[0m\u001b[1;31m:\u001b[0m invalid syntax\n"
     ]
    }
   ],
   "source": [
    "JUNK CODE"
   ]
  },
  {
   "cell_type": "markdown",
   "id": "73d94a3e",
   "metadata": {},
   "source": [
    "count_x = []\n",
    "count_y = []\n",
    "\n",
    "for i in range(len(x_lens)):\n",
    "    count_x.append(abs(x_lens[i]-100))\n",
    "    \n",
    "for i in range(len(y_lens)):\n",
    "    count_y.append(abs(y_lens[i]-100))\n",
    "print(count_x)\n",
    "print(count_y)   "
   ]
  },
  {
   "cell_type": "markdown",
   "id": "a89e52de",
   "metadata": {},
   "source": [
    "def roundUpTo100(x):\n",
    "    result = x if x % 100 == 0 else x + 100 - x % 100\n",
    "    return result"
   ]
  },
  {
   "cell_type": "markdown",
   "id": "f59eceb2",
   "metadata": {},
   "source": [
    "roundUpTo100(101)"
   ]
  },
  {
   "cell_type": "markdown",
   "id": "ed2f452d",
   "metadata": {},
   "source": [
    "np.gcd(918,100)"
   ]
  }
 ],
 "metadata": {
  "kernelspec": {
   "display_name": "Python 3 (ipykernel)",
   "language": "python",
   "name": "python3"
  },
  "language_info": {
   "codemirror_mode": {
    "name": "ipython",
    "version": 3
   },
   "file_extension": ".py",
   "mimetype": "text/x-python",
   "name": "python",
   "nbconvert_exporter": "python",
   "pygments_lexer": "ipython3",
   "version": "3.9.7"
  }
 },
 "nbformat": 4,
 "nbformat_minor": 5
}
