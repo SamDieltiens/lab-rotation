{
 "cells": [
  {
   "cell_type": "code",
   "execution_count": 1,
   "id": "7167800d",
   "metadata": {},
   "outputs": [],
   "source": [
    "from skimage.io import imread_collection, imshow\n",
    "import numpy as np\n",
    "\n",
    "folder = np.array(imread_collection(r\"C:\\Users\\Sam Dieltiens\\Desktop\\LR1\\tiling_images\\iss\\*.tif\"), dtype=object)"
   ]
  },
  {
   "cell_type": "code",
   "execution_count": 2,
   "id": "72392097",
   "metadata": {},
   "outputs": [],
   "source": [
    "#input target tile size\n",
    "target_tile_height = 100\n",
    "target_tile_width = 100"
   ]
  },
  {
   "cell_type": "code",
   "execution_count": 3,
   "id": "e269e416",
   "metadata": {},
   "outputs": [
    {
     "name": "stdout",
     "output_type": "stream",
     "text": [
      "988 1337\n"
     ]
    }
   ],
   "source": [
    "#calculate largest height and width\n",
    "heights = []\n",
    "widths = []\n",
    "for i in range(len(folder)):\n",
    "    heights.append(folder[i].shape[0])\n",
    "    widths.append(folder[i].shape[1])\n",
    "\n",
    "max_rows = sorted(heights, reverse = True)[0]\n",
    "max_columns = sorted(widths, reverse = True)[0] \n",
    "print(max_rows,max_columns)"
   ]
  },
  {
   "cell_type": "code",
   "execution_count": 4,
   "id": "f68f1624",
   "metadata": {},
   "outputs": [
    {
     "name": "stdout",
     "output_type": "stream",
     "text": [
      "10.0 14.0\n"
     ]
    }
   ],
   "source": [
    "#calculate the target number of tiles, both in height & width\n",
    "xdiv = np.ceil(max_rows / target_tile_height)\n",
    "ydiv = np.ceil(max_columns / target_tile_width)\n",
    "print(xdiv,ydiv)"
   ]
  },
  {
   "cell_type": "code",
   "execution_count": 5,
   "id": "995b7ae7",
   "metadata": {},
   "outputs": [
    {
     "name": "stdout",
     "output_type": "stream",
     "text": [
      "1000.0 1400.0\n"
     ]
    }
   ],
   "source": [
    "#calculate target image resolution, based on target tile size and imported image resolution\n",
    "target_full_rows = xdiv * target_tile_height\n",
    "target_full_columns = ydiv * target_tile_width\n",
    "print(target_full_rows, target_full_columns)"
   ]
  },
  {
   "cell_type": "code",
   "execution_count": 6,
   "id": "ff88368f",
   "metadata": {},
   "outputs": [
    {
     "name": "stdout",
     "output_type": "stream",
     "text": [
      "[17, 19, 16, 12, 22, 21, 18, 28, 17, 19, 20, 22, 20, 12, 21, 29] \n",
      " [68, 67, 67, 63, 67, 76, 69, 75, 68, 69, 66, 74, 64, 74, 74, 68]\n"
     ]
    }
   ],
   "source": [
    "#calculate difference between target image resolution and input image resolution\n",
    "rowdiff = []\n",
    "columndiff = []\n",
    "for i in range(len(heights)):\n",
    "    rowdiff.append(target_full_rows - heights[i])\n",
    "    columndiff.append(target_full_columns - widths[i])\n",
    "rowdiff = [int(i) for i in rowdiff]\n",
    "columndiff = [int(i) for i in columndiff]\n",
    "print(rowdiff, '\\n' , columndiff)"
   ]
  },
  {
   "cell_type": "code",
   "execution_count": 7,
   "id": "314b7141",
   "metadata": {},
   "outputs": [],
   "source": [
    "#pad the images with zero pixels until target resolution\n",
    "imgs = folder.copy()\n",
    "for i in range(len(folder)):\n",
    "    imgs[i] = np.pad(folder[i], ((0, rowdiff[i]), (0, columndiff[i])))"
   ]
  },
  {
   "cell_type": "code",
   "execution_count": 11,
   "id": "c4e9e075",
   "metadata": {},
   "outputs": [],
   "source": [
    "#check if the resolutions match the target resolution\n",
    "for i in range(len(imgs)):\n",
    "    if imgs[i].shape[0] != target_full_rows:\n",
    "        print(\"Target rows doesn't match actual rows\")\n",
    "    elif imgs[i].shape[1] != target_full_columns:\n",
    "        print(\"Target columns doesn't match actual columns\")\n",
    "    else:\n",
    "        continue"
   ]
  },
  {
   "cell_type": "code",
   "execution_count": null,
   "id": "78b57f62",
   "metadata": {},
   "outputs": [],
   "source": []
  },
  {
   "cell_type": "code",
   "execution_count": null,
   "id": "e2d04630",
   "metadata": {},
   "outputs": [],
   "source": []
  },
  {
   "cell_type": "code",
   "execution_count": null,
   "id": "b40092c5",
   "metadata": {},
   "outputs": [],
   "source": []
  },
  {
   "cell_type": "code",
   "execution_count": null,
   "id": "54640b71",
   "metadata": {},
   "outputs": [],
   "source": []
  },
  {
   "cell_type": "code",
   "execution_count": null,
   "id": "7012920c",
   "metadata": {},
   "outputs": [],
   "source": []
  },
  {
   "cell_type": "code",
   "execution_count": null,
   "id": "4e677b09",
   "metadata": {},
   "outputs": [],
   "source": []
  },
  {
   "cell_type": "code",
   "execution_count": null,
   "id": "35e73c53",
   "metadata": {},
   "outputs": [],
   "source": []
  }
 ],
 "metadata": {
  "kernelspec": {
   "display_name": "Python 3 (ipykernel)",
   "language": "python",
   "name": "python3"
  },
  "language_info": {
   "codemirror_mode": {
    "name": "ipython",
    "version": 3
   },
   "file_extension": ".py",
   "mimetype": "text/x-python",
   "name": "python",
   "nbconvert_exporter": "python",
   "pygments_lexer": "ipython3",
   "version": "3.9.7"
  }
 },
 "nbformat": 4,
 "nbformat_minor": 5
}
